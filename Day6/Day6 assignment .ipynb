{
 "cells": [
  {
   "cell_type": "markdown",
   "metadata": {},
   "source": [
    "# Question 1:\n",
    "Assuming that we have some email addresses in the \"username@companyname.com\" format, please write program\n",
    "to print the company name of a given email address. Both user names and company names are composed of letters only"
   ]
  },
  {
   "cell_type": "code",
   "execution_count": 30,
   "metadata": {},
   "outputs": [
    {
     "name": "stdout",
     "output_type": "stream",
     "text": [
      "input:\n",
      "username@companyname.com\n",
      "output:\n",
      " companyname\n"
     ]
    }
   ],
   "source": [
    "email=input('input:\\n')\n",
    "sp=email.split('@')\n",
    "l=sp[1].split('.')\n",
    "print('output:\\n',l[0])"
   ]
  },
  {
   "cell_type": "markdown",
   "metadata": {},
   "source": [
    "# Question 2:\n",
    "Write a program that accepts a comma-separated sequence of words as input and prints the words in a comma\n",
    "separated sequence after sorting them alphabetically."
   ]
  },
  {
   "cell_type": "code",
   "execution_count": 31,
   "metadata": {},
   "outputs": [
    {
     "data": {
      "text/plain": [
       "['ad', 'bd', 'kd', 'md']"
      ]
     },
     "execution_count": 31,
     "metadata": {},
     "output_type": "execute_result"
    }
   ],
   "source": [
    "s= ['kd','md','ad','bd']\n",
    "s.sort()\n",
    "s"
   ]
  },
  {
   "cell_type": "code",
   "execution_count": 33,
   "metadata": {},
   "outputs": [
    {
     "name": "stdout",
     "output_type": "stream",
     "text": [
      "input:\n",
      "\n",
      "without,hello,bag,world\n",
      "output:\n",
      "\n",
      "bag,hello,without,world,"
     ]
    }
   ],
   "source": [
    "print('input:\\n')\n",
    "w = [ x for x in input().split(',')]\n",
    "w.sort()\n",
    "print('output:\\n')\n",
    "for i in w:\n",
    "    print(i,end=',')"
   ]
  },
  {
   "cell_type": "markdown",
   "metadata": {},
   "source": [
    "# Question 3:\n",
    "Create your own Jupyter Notebook for Sets.\n",
    "Reference link: https://www.w3schools.com/python/python_sets.asp"
   ]
  },
  {
   "cell_type": "code",
   "execution_count": 34,
   "metadata": {},
   "outputs": [
    {
     "data": {
      "text/plain": [
       "{(2+7j), 1, 2, 3.4, 'a', 'b', 'c'}"
      ]
     },
     "execution_count": 34,
     "metadata": {},
     "output_type": "execute_result"
    }
   ],
   "source": [
    "se = {'a','b','c',1,2,3.4,2+7j}\n",
    "se                              # order of element is not preserverd"
   ]
  },
  {
   "cell_type": "code",
   "execution_count": 35,
   "metadata": {},
   "outputs": [
    {
     "ename": "TypeError",
     "evalue": "'set' object is not subscriptable",
     "output_type": "error",
     "traceback": [
      "\u001b[1;31m---------------------------------------------------------------------------\u001b[0m",
      "\u001b[1;31mTypeError\u001b[0m                                 Traceback (most recent call last)",
      "\u001b[1;32m<ipython-input-35-48104d314f57>\u001b[0m in \u001b[0;36m<module>\u001b[1;34m\u001b[0m\n\u001b[1;32m----> 1\u001b[1;33m \u001b[0mse\u001b[0m\u001b[1;33m[\u001b[0m\u001b[1;36m0\u001b[0m\u001b[1;33m]\u001b[0m   \u001b[1;31m# 'set' object is not subscriptable\u001b[0m\u001b[1;33m\u001b[0m\u001b[1;33m\u001b[0m\u001b[0m\n\u001b[0m",
      "\u001b[1;31mTypeError\u001b[0m: 'set' object is not subscriptable"
     ]
    }
   ],
   "source": [
    "se[0]   # 'set' object is not subscriptable"
   ]
  },
  {
   "cell_type": "code",
   "execution_count": 36,
   "metadata": {},
   "outputs": [
    {
     "name": "stdout",
     "output_type": "stream",
     "text": [
      "1,2,3.4,b,(2+7j),a,c,"
     ]
    }
   ],
   "source": [
    "for i in se:            # accsessing the members with loop\n",
    "    print(i,end=',')"
   ]
  },
  {
   "cell_type": "code",
   "execution_count": 37,
   "metadata": {},
   "outputs": [
    {
     "name": "stdout",
     "output_type": "stream",
     "text": [
      "{1, 2, 3.4, 'hello world', 'b', (2+7j), 'a', 'c'}\n",
      "{'set', 1, 2, 3.4, 'hello world', 'b', 'this', 'is', (2+7j), 'a', 'c'}\n"
     ]
    }
   ],
   "source": [
    "# add() and update() method\n",
    "se.add('hello world')\n",
    "print(se)\n",
    "se.update(['this','is','set'])\n",
    "print(se)"
   ]
  },
  {
   "cell_type": "markdown",
   "metadata": {},
   "source": [
    "# Question 4:\n",
    "Given a list of n-1 numbers ranging from 1 to n, your task is to find the missing number. There are no duplicates.\n",
    "\n",
    "Input Format:\n",
    "\n",
    "The first line contains n-1 numbers with each number separated by a space.\n",
    "\n",
    "Output Format:\n",
    "\n",
    "Print the missing number\n",
    "Example:\n",
    "\n",
    "Input:1 2 4 6 3 7 8\n",
    "\n",
    "Output:5"
   ]
  },
  {
   "cell_type": "code",
   "execution_count": 38,
   "metadata": {},
   "outputs": [
    {
     "name": "stdout",
     "output_type": "stream",
     "text": [
      "input:\n",
      "\n",
      "1 2 4 6 3 7 8\n",
      "output:\n",
      "\n",
      "5\n"
     ]
    }
   ],
   "source": [
    "print('input:\\n')\n",
    "l=[x for x in input().split()]     # split() return list of string\n",
    "\n",
    "#print(l)\n",
    "li=[]\n",
    "for d in l:\n",
    "    li.append(int(d))\n",
    "#print(li)  \n",
    "li.sort()\n",
    "#print(li)\n",
    "print('output:\\n')\n",
    "o=1\n",
    "for i in li:\n",
    "    \n",
    "    if o==i:\n",
    "        pass\n",
    "    else:\n",
    "        break\n",
    "    o=o+1\n",
    "    \n",
    "print(o)"
   ]
  },
  {
   "cell_type": "markdown",
   "metadata": {},
   "source": [
    "# Question 5:\n",
    "With a given list L, write a program to print this list L after removing all duplicate values with original order reserved."
   ]
  },
  {
   "cell_type": "code",
   "execution_count": 29,
   "metadata": {},
   "outputs": [
    {
     "name": "stdout",
     "output_type": "stream",
     "text": [
      "input:\n",
      "\n",
      "12 24 35 24 88 120 155 88 120 155\n",
      "output:\n",
      " 12 24 35 88 120 155\n"
     ]
    }
   ],
   "source": [
    "print('input:\\n')\n",
    "li=[x for x in input().split()]     # split() return list of string\n",
    "\n",
    "#print(l)\n",
    "new_lis=[]\n",
    "for d in li:\n",
    "    new_lis.append(int(d))\n",
    "#print(new_lis)\n",
    "\n",
    "new_result = [] \n",
    "for i in new_lis: \n",
    "    if i not in new_result: \n",
    "        new_result.append(i)\n",
    "        \n",
    "print('output:\\n', *new_result,sep=' ')        "
   ]
  },
  {
   "cell_type": "code",
   "execution_count": null,
   "metadata": {},
   "outputs": [],
   "source": []
  }
 ],
 "metadata": {
  "kernelspec": {
   "display_name": "Python 3",
   "language": "python",
   "name": "python3"
  },
  "language_info": {
   "codemirror_mode": {
    "name": "ipython",
    "version": 3
   },
   "file_extension": ".py",
   "mimetype": "text/x-python",
   "name": "python",
   "nbconvert_exporter": "python",
   "pygments_lexer": "ipython3",
   "version": "3.8.2"
  }
 },
 "nbformat": 4,
 "nbformat_minor": 4
}
