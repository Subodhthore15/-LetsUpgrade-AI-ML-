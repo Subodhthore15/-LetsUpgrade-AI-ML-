{
 "cells": [
  {
   "cell_type": "markdown",
   "metadata": {},
   "source": [
    "# Question 1 :\n",
    "\n",
    "Research on whether addition, subtraction, multiplication, division, floor division and modulo\n",
    "operations be performed on complex numbers. Based on your study, implement a Python\n",
    "program to demonstrate these operations.\n"
   ]
  },
  {
   "cell_type": "code",
   "execution_count": 21,
   "metadata": {},
   "outputs": [
    {
     "name": "stdout",
     "output_type": "stream",
     "text": [
      "enter the complex number 1 = 3+8j\n",
      "enter the complex number 2 = 8+4j\n",
      "addition of two complex number =  (11+12j)\n",
      "substraction of complex number =  (-5+4j)\n",
      "multiplication of complex number =  (-8+76j)\n",
      "division of complex number =  (0.7+0.65j)\n"
     ]
    },
    {
     "data": {
      "text/plain": [
       "' floor division of complex number and modulo operation on complex number\\n    is not possible it gives TypeError\\n'"
      ]
     },
     "execution_count": 21,
     "metadata": {},
     "output_type": "execute_result"
    }
   ],
   "source": [
    "# let's take two complex number input from user\n",
    "inp1 = input('enter the complex number 1 = ')\n",
    "a = complex(inp1)\n",
    "inp2 = input('enter the complex number 2 = ')\n",
    "b = complex(inp2)\n",
    "\n",
    "# addition of two complex number\n",
    "print('addition of two complex number = ',a+b)\n",
    "\n",
    "# substraction of complex number\n",
    "print('substraction of complex number = ',a-b)\n",
    "\n",
    "# multiplication of complex number\n",
    "print('multiplication of complex number = ',a*b)\n",
    "\n",
    "# division of complex number\n",
    "print('division of complex number = ',a/b)\n",
    "\n",
    "''' Floor division of complex number and modulo operation on complex number\n",
    "    is not possible it gives TypeError\n",
    "'''"
   ]
  },
  {
   "cell_type": "markdown",
   "metadata": {},
   "source": [
    "# Question 2 :\n",
    "\n",
    "Research on range() functions and its parameters. Create a markdown cell and write in your own\n",
    "words (no copy-paste from google please) what you understand about it. Implement a small\n",
    "program of your choice on the same.\n",
    "\n",
    "range(start,stop,step)\n",
    "\n",
    "start = (int value)\n",
    "\n",
    "         - start value which you want to give .\n",
    "         - included the value \n",
    "         - default value it consider is 0\n",
    "         - optional \n",
    "  \n",
    "stop =  (int value)\n",
    "\n",
    "         - this value is excluded \n",
    "         - it is required value   range(4) means 4 is stop value\n",
    "step =  (int value)\n",
    "\n",
    "         - by default it takes 1 as step\n",
    "         - optional value \n",
    "         \n",
    "\n"
   ]
  },
  {
   "cell_type": "code",
   "execution_count": 26,
   "metadata": {},
   "outputs": [
    {
     "name": "stdout",
     "output_type": "stream",
     "text": [
      "2\n",
      "4\n",
      "6\n"
     ]
    }
   ],
   "source": [
    "for i in range(2,8,2):  # here start = 2 , stop = 8 , step = 2\n",
    "    print(i)"
   ]
  },
  {
   "cell_type": "markdown",
   "metadata": {},
   "source": [
    "# Question 3:\n",
    "\n",
    " Consider two numbers. Perform their subtraction and if the result of subtraction is greater than\n",
    "25, print their multiplication result else print their division result.\n"
   ]
  },
  {
   "cell_type": "code",
   "execution_count": 27,
   "metadata": {},
   "outputs": [
    {
     "name": "stdout",
     "output_type": "stream",
     "text": [
      "Division is  =  0.4639175257731959\n"
     ]
    }
   ],
   "source": [
    "# values not taking from user\n",
    "num1 = 4.5\n",
    "num2 = 9.7\n",
    "\n",
    "sub = num1-num2\n",
    "if sub>25:\n",
    "    print('multiplication is  = ' , num1 * num2)\n",
    "else:\n",
    "    print('Division is  = ',num1/num2)"
   ]
  },
  {
   "cell_type": "code",
   "execution_count": 28,
   "metadata": {},
   "outputs": [
    {
     "name": "stdout",
     "output_type": "stream",
     "text": [
      "enter the first value =  23\n",
      "enter the  second value =  4\n",
      "Division is  =  5.75\n"
     ]
    }
   ],
   "source": [
    "# values  taking from user\n",
    "num1 = int(input('enter the first value =  '))\n",
    "num2 = int(input('enter the  second value =  '))\n",
    "\n",
    "sub = num1-num2\n",
    "if sub>25:\n",
    "    print('multiplication is  = ' , num1 * num2)\n",
    "else:\n",
    "    print('Division is  = ',num1/num2)"
   ]
  },
  {
   "cell_type": "markdown",
   "metadata": {},
   "source": [
    "# Question 4:\n",
    "\n",
    "Consider a list of 10 elements of integer values. If the number in the list is divisible by 2, print the\n",
    "result as \"square of that number minus 2\"."
   ]
  },
  {
   "cell_type": "code",
   "execution_count": 54,
   "metadata": {},
   "outputs": [
    {
     "name": "stdout",
     "output_type": "stream",
     "text": [
      "result for  2 is = 2\n",
      "result for  4 is = 14\n",
      "result for  6 is = 34\n",
      "result for  8 is = 62\n",
      "result for  10 is = 98\n"
     ]
    }
   ],
   "source": [
    "l = [1,2,3,4,5,6,7,8,9,10] \n",
    "for i in l:\n",
    "    if i%2==0:\n",
    "        result = i**2 - 2 \n",
    "        print('result for ',i, 'is =',result)\n",
    "        "
   ]
  },
  {
   "cell_type": "markdown",
   "metadata": {},
   "source": [
    "# Question 5:\n",
    "Consider a list of 10 elements. Print all the elements in the list which are greater than 7 when that\n",
    "number is divided 2."
   ]
  },
  {
   "cell_type": "code",
   "execution_count": 53,
   "metadata": {},
   "outputs": [
    {
     "name": "stdout",
     "output_type": "stream",
     "text": [
      "22\n",
      "33\n",
      "55\n",
      "77\n",
      "88\n",
      "99\n",
      "100\n"
     ]
    }
   ],
   "source": [
    "l = [11,22,33,4,55,6,77,88,99,100] \n",
    "for i in l:\n",
    "    if i/2 > 7:\n",
    "        print(i)"
   ]
  },
  {
   "cell_type": "code",
   "execution_count": null,
   "metadata": {},
   "outputs": [],
   "source": []
  }
 ],
 "metadata": {
  "kernelspec": {
   "display_name": "Python 3",
   "language": "python",
   "name": "python3"
  },
  "language_info": {
   "codemirror_mode": {
    "name": "ipython",
    "version": 3
   },
   "file_extension": ".py",
   "mimetype": "text/x-python",
   "name": "python",
   "nbconvert_exporter": "python",
   "pygments_lexer": "ipython3",
   "version": "3.8.2"
  }
 },
 "nbformat": 4,
 "nbformat_minor": 4
}
