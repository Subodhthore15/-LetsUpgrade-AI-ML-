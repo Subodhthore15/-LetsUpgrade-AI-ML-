{
 "cells": [
  {
   "cell_type": "markdown",
   "metadata": {},
   "source": [
    "#  This is day 03 Assignment"
   ]
  },
  {
   "cell_type": "code",
   "execution_count": 13,
   "metadata": {},
   "outputs": [
    {
     "name": "stdout",
     "output_type": "stream",
     "text": [
      "enter the first complex no. in  x+yj format = 2+7j\n",
      "enter the second complex no. in  x+yj format = 7+6j\n",
      "substraction is (-5+1j)\n"
     ]
    }
   ],
   "source": [
    "# que-1 = subtract two complex number in python\n",
    "\n",
    "'''a = 1 + 2 j  #complex(2,3)\n",
    "\n",
    "b = 3 + 3 j  #complex(3,4)\n",
    "c = a-b\n",
    "print('Substraction is =',c)'''\n",
    "\n",
    "# here x+yj x= real no. and y is imaginary no.\n",
    "\n",
    "a=complex(input('enter the first complex no. in  x+yj format = '))\n",
    "b=complex(input('enter the second complex no. in  x+yj format = '))\n",
    "c= a-b  \n",
    "print('substraction is',c)"
   ]
  },
  {
   "cell_type": "code",
   "execution_count": 49,
   "metadata": {},
   "outputs": [
    {
     "name": "stdout",
     "output_type": "stream",
     "text": [
      "enter the number that you want to find fourth root81\n",
      "fouth root is  3.0\n"
     ]
    }
   ],
   "source": [
    "# que-2  = find the fourth root of number\n",
    "\n",
    "'''\n",
    "\n",
    "The fourth root of a number is the number that would have to be multiplied by itself 4 times to get the original number. For example, the fourth root of 81 is 3 as 3 x 3 x 3 x 3 is 81.\n",
    "'''\n",
    "\n",
    "n= int(input('enter the number that you want to find fourth root'))\n",
    "\n",
    "\n",
    "fourth_root =n ** (1/4)\n",
    "\n",
    "print('fouth root is ',fourth_root)"
   ]
  },
  {
   "cell_type": "code",
   "execution_count": 27,
   "metadata": {},
   "outputs": [
    {
     "name": "stdout",
     "output_type": "stream",
     "text": [
      "before swapping a =  10\n",
      "before swapping b =  20\n",
      "after swapping a =  20\n",
      "after swapping b =  10\n"
     ]
    }
   ],
   "source": [
    "# que-3 = swap the two no. with temporary variable\n",
    "a = 10\n",
    "b = 20\n",
    "\n",
    "print('before swapping a = ',a)\n",
    "print('before swapping b = ',b)\n",
    "\n",
    "t=a     #    t is dynamically created\n",
    "a=b\n",
    "b=t\n",
    "\n",
    "print('after swapping a = ',a)\n",
    "print('after swapping b = ',b)"
   ]
  },
  {
   "cell_type": "code",
   "execution_count": 29,
   "metadata": {},
   "outputs": [
    {
     "name": "stdout",
     "output_type": "stream",
     "text": [
      "20\n",
      "10\n"
     ]
    }
   ],
   "source": [
    "# que-4 = swap the  two no. without temporary variable\n",
    "a = 10\n",
    "b = 20\n",
    "\n",
    "b,a = a,b\n",
    "\n",
    "print(a)\n",
    "print(b)\n"
   ]
  },
  {
   "cell_type": "code",
   "execution_count": 38,
   "metadata": {},
   "outputs": [
    {
     "name": "stdout",
     "output_type": "stream",
     "text": [
      "enter the tempreture in fahrenheit = 78\n",
      "the tempreture in celsius  25.555555555555557\n",
      "the tempreture in kelvin  298.7055555555555\n"
     ]
    }
   ],
   "source": [
    "# que -5 fahrenheit to kelvin and celsius\n",
    "# (fahrenheit_temp°F − 32) × 5/9 = °C   ( fahrenheit to celsius)\n",
    "# (fahrenheit_temp°F − 32) × 5/9 + 273.15   ( fahrenheit to  kelvin)\n",
    "\n",
    "feh = int(input('enter the tempreture in fahrenheit = '))\n",
    "cel = (feh - 32) * 5/9 \n",
    "kel = (feh - 32) * 5/9 + 273.15\n",
    "print('the tempreture in celsius ',cel)\n",
    "print('the tempreture in kelvin ',kel)"
   ]
  },
  {
   "cell_type": "code",
   "execution_count": 41,
   "metadata": {},
   "outputs": [
    {
     "name": "stdout",
     "output_type": "stream",
     "text": [
      "Type of a=  <class 'int'>\n",
      "Type of b:  <class 'float'>\n",
      "Type of c:  <class 'complex'>\n"
     ]
    }
   ],
   "source": [
    "#Que - 6 all available datatype in python hint - type()\n",
    "\n",
    "a = 7\n",
    "print(\"Type of a= \",type(a)) \n",
    "  \n",
    "b = 2.3\n",
    "print(\"Type of b: \",type(b)) \n",
    "  \n",
    "c = 4 + 7j\n",
    "print(\"Type of c: \",type(c))\n",
    "\n"
   ]
  },
  {
   "cell_type": "markdown",
   "metadata": {},
   "source": [
    "Que - 7 create in markdown cell  how to upload assignment to github "
   ]
  },
  {
   "cell_type": "code",
   "execution_count": null,
   "metadata": {},
   "outputs": [],
   "source": []
  }
 ],
 "metadata": {
  "kernelspec": {
   "display_name": "Python 3",
   "language": "python",
   "name": "python3"
  },
  "language_info": {
   "codemirror_mode": {
    "name": "ipython",
    "version": 3
   },
   "file_extension": ".py",
   "mimetype": "text/x-python",
   "name": "python",
   "nbconvert_exporter": "python",
   "pygments_lexer": "ipython3",
   "version": "3.8.2"
  }
 },
 "nbformat": 4,
 "nbformat_minor": 4
}
