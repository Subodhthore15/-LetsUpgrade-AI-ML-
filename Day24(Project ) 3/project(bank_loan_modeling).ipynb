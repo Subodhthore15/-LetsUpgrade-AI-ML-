{
 "cells": [
  {
   "cell_type": "code",
   "execution_count": 31,
   "metadata": {},
   "outputs": [],
   "source": [
    "import pandas as pd\n",
    "import numpy as np\n"
   ]
  },
  {
   "cell_type": "code",
   "execution_count": 32,
   "metadata": {},
   "outputs": [],
   "source": [
    "df = pd.read_excel('Bank_Personal_Loan_Modelling.xlsx',sheet_name=1)"
   ]
  },
  {
   "cell_type": "code",
   "execution_count": 33,
   "metadata": {},
   "outputs": [
    {
     "data": {
      "text/html": [
       "<div>\n",
       "<style scoped>\n",
       "    .dataframe tbody tr th:only-of-type {\n",
       "        vertical-align: middle;\n",
       "    }\n",
       "\n",
       "    .dataframe tbody tr th {\n",
       "        vertical-align: top;\n",
       "    }\n",
       "\n",
       "    .dataframe thead th {\n",
       "        text-align: right;\n",
       "    }\n",
       "</style>\n",
       "<table border=\"1\" class=\"dataframe\">\n",
       "  <thead>\n",
       "    <tr style=\"text-align: right;\">\n",
       "      <th></th>\n",
       "      <th>ID</th>\n",
       "      <th>Age</th>\n",
       "      <th>Experience</th>\n",
       "      <th>Income</th>\n",
       "      <th>ZIP Code</th>\n",
       "      <th>Family</th>\n",
       "      <th>CCAvg</th>\n",
       "      <th>Education</th>\n",
       "      <th>Mortgage</th>\n",
       "      <th>Personal Loan</th>\n",
       "      <th>Securities Account</th>\n",
       "      <th>CD Account</th>\n",
       "      <th>Online</th>\n",
       "      <th>CreditCard</th>\n",
       "    </tr>\n",
       "  </thead>\n",
       "  <tbody>\n",
       "    <tr>\n",
       "      <th>0</th>\n",
       "      <td>1</td>\n",
       "      <td>25</td>\n",
       "      <td>1</td>\n",
       "      <td>49</td>\n",
       "      <td>91107</td>\n",
       "      <td>4</td>\n",
       "      <td>1.6</td>\n",
       "      <td>1</td>\n",
       "      <td>0</td>\n",
       "      <td>0</td>\n",
       "      <td>1</td>\n",
       "      <td>0</td>\n",
       "      <td>0</td>\n",
       "      <td>0</td>\n",
       "    </tr>\n",
       "    <tr>\n",
       "      <th>1</th>\n",
       "      <td>2</td>\n",
       "      <td>45</td>\n",
       "      <td>19</td>\n",
       "      <td>34</td>\n",
       "      <td>90089</td>\n",
       "      <td>3</td>\n",
       "      <td>1.5</td>\n",
       "      <td>1</td>\n",
       "      <td>0</td>\n",
       "      <td>0</td>\n",
       "      <td>1</td>\n",
       "      <td>0</td>\n",
       "      <td>0</td>\n",
       "      <td>0</td>\n",
       "    </tr>\n",
       "    <tr>\n",
       "      <th>2</th>\n",
       "      <td>3</td>\n",
       "      <td>39</td>\n",
       "      <td>15</td>\n",
       "      <td>11</td>\n",
       "      <td>94720</td>\n",
       "      <td>1</td>\n",
       "      <td>1.0</td>\n",
       "      <td>1</td>\n",
       "      <td>0</td>\n",
       "      <td>0</td>\n",
       "      <td>0</td>\n",
       "      <td>0</td>\n",
       "      <td>0</td>\n",
       "      <td>0</td>\n",
       "    </tr>\n",
       "    <tr>\n",
       "      <th>3</th>\n",
       "      <td>4</td>\n",
       "      <td>35</td>\n",
       "      <td>9</td>\n",
       "      <td>100</td>\n",
       "      <td>94112</td>\n",
       "      <td>1</td>\n",
       "      <td>2.7</td>\n",
       "      <td>2</td>\n",
       "      <td>0</td>\n",
       "      <td>0</td>\n",
       "      <td>0</td>\n",
       "      <td>0</td>\n",
       "      <td>0</td>\n",
       "      <td>0</td>\n",
       "    </tr>\n",
       "    <tr>\n",
       "      <th>4</th>\n",
       "      <td>5</td>\n",
       "      <td>35</td>\n",
       "      <td>8</td>\n",
       "      <td>45</td>\n",
       "      <td>91330</td>\n",
       "      <td>4</td>\n",
       "      <td>1.0</td>\n",
       "      <td>2</td>\n",
       "      <td>0</td>\n",
       "      <td>0</td>\n",
       "      <td>0</td>\n",
       "      <td>0</td>\n",
       "      <td>0</td>\n",
       "      <td>1</td>\n",
       "    </tr>\n",
       "  </tbody>\n",
       "</table>\n",
       "</div>"
      ],
      "text/plain": [
       "   ID  Age  Experience  Income  ZIP Code  Family  CCAvg  Education  Mortgage  \\\n",
       "0   1   25           1      49     91107       4    1.6          1         0   \n",
       "1   2   45          19      34     90089       3    1.5          1         0   \n",
       "2   3   39          15      11     94720       1    1.0          1         0   \n",
       "3   4   35           9     100     94112       1    2.7          2         0   \n",
       "4   5   35           8      45     91330       4    1.0          2         0   \n",
       "\n",
       "   Personal Loan  Securities Account  CD Account  Online  CreditCard  \n",
       "0              0                   1           0       0           0  \n",
       "1              0                   1           0       0           0  \n",
       "2              0                   0           0       0           0  \n",
       "3              0                   0           0       0           0  \n",
       "4              0                   0           0       0           1  "
      ]
     },
     "execution_count": 33,
     "metadata": {},
     "output_type": "execute_result"
    }
   ],
   "source": [
    "df.head()"
   ]
  },
  {
   "cell_type": "code",
   "execution_count": 34,
   "metadata": {},
   "outputs": [
    {
     "name": "stdout",
     "output_type": "stream",
     "text": [
      "<class 'pandas.core.frame.DataFrame'>\n",
      "RangeIndex: 5000 entries, 0 to 4999\n",
      "Data columns (total 14 columns):\n",
      " #   Column              Non-Null Count  Dtype  \n",
      "---  ------              --------------  -----  \n",
      " 0   ID                  5000 non-null   int64  \n",
      " 1   Age                 5000 non-null   int64  \n",
      " 2   Experience          5000 non-null   int64  \n",
      " 3   Income              5000 non-null   int64  \n",
      " 4   ZIP Code            5000 non-null   int64  \n",
      " 5   Family              5000 non-null   int64  \n",
      " 6   CCAvg               5000 non-null   float64\n",
      " 7   Education           5000 non-null   int64  \n",
      " 8   Mortgage            5000 non-null   int64  \n",
      " 9   Personal Loan       5000 non-null   int64  \n",
      " 10  Securities Account  5000 non-null   int64  \n",
      " 11  CD Account          5000 non-null   int64  \n",
      " 12  Online              5000 non-null   int64  \n",
      " 13  CreditCard          5000 non-null   int64  \n",
      "dtypes: float64(1), int64(13)\n",
      "memory usage: 547.0 KB\n"
     ]
    }
   ],
   "source": [
    "df.info()"
   ]
  },
  {
   "cell_type": "code",
   "execution_count": 35,
   "metadata": {},
   "outputs": [],
   "source": [
    "from sklearn import tree\n"
   ]
  },
  {
   "cell_type": "code",
   "execution_count": 36,
   "metadata": {},
   "outputs": [
    {
     "data": {
      "text/plain": [
       "Index(['ID', 'Age', 'Experience', 'Income', 'ZIP Code', 'Family', 'CCAvg',\n",
       "       'Education', 'Mortgage', 'Personal Loan', 'Securities Account',\n",
       "       'CD Account', 'Online', 'CreditCard'],\n",
       "      dtype='object')"
      ]
     },
     "execution_count": 36,
     "metadata": {},
     "output_type": "execute_result"
    }
   ],
   "source": [
    "df.keys()"
   ]
  },
  {
   "cell_type": "code",
   "execution_count": 37,
   "metadata": {},
   "outputs": [],
   "source": [
    "df.drop(['ID','ZIP Code'],axis=1,inplace=True)"
   ]
  },
  {
   "cell_type": "code",
   "execution_count": 38,
   "metadata": {},
   "outputs": [],
   "source": [
    "x = df.drop('Personal Loan',axis=1)\n",
    "y = df['Personal Loan']"
   ]
  },
  {
   "cell_type": "code",
   "execution_count": 39,
   "metadata": {},
   "outputs": [
    {
     "data": {
      "text/plain": [
       "(5000, 12)"
      ]
     },
     "execution_count": 39,
     "metadata": {},
     "output_type": "execute_result"
    }
   ],
   "source": [
    "df.shape"
   ]
  },
  {
   "cell_type": "code",
   "execution_count": 40,
   "metadata": {},
   "outputs": [],
   "source": [
    "from sklearn.model_selection import train_test_split\n",
    "x_train,x_test,y_train,y_test=train_test_split(x,y,test_size=0.2)"
   ]
  },
  {
   "cell_type": "markdown",
   "metadata": {},
   "source": [
    "# Building Random Forest Model\n",
    "-to find the important feature in data"
   ]
  },
  {
   "cell_type": "code",
   "execution_count": 41,
   "metadata": {},
   "outputs": [],
   "source": [
    "from sklearn.ensemble import RandomForestClassifier\n",
    "rf_model = RandomForestClassifier(n_estimators=1000 , max_features=2,oob_score=True)"
   ]
  },
  {
   "cell_type": "code",
   "execution_count": 42,
   "metadata": {},
   "outputs": [
    {
     "data": {
      "text/plain": [
       "RandomForestClassifier(bootstrap=True, ccp_alpha=0.0, class_weight=None,\n",
       "                       criterion='gini', max_depth=None, max_features=2,\n",
       "                       max_leaf_nodes=None, max_samples=None,\n",
       "                       min_impurity_decrease=0.0, min_impurity_split=None,\n",
       "                       min_samples_leaf=1, min_samples_split=2,\n",
       "                       min_weight_fraction_leaf=0.0, n_estimators=1000,\n",
       "                       n_jobs=None, oob_score=True, random_state=None,\n",
       "                       verbose=0, warm_start=False)"
      ]
     },
     "execution_count": 42,
     "metadata": {},
     "output_type": "execute_result"
    }
   ],
   "source": [
    "rf_model.fit(x_train,y_train)"
   ]
  },
  {
   "cell_type": "code",
   "execution_count": 43,
   "metadata": {},
   "outputs": [
    {
     "name": "stdout",
     "output_type": "stream",
     "text": [
      " Training score or oob_score 0.98425\n"
     ]
    }
   ],
   "source": [
    "print(' Training score or oob_score',rf_model.oob_score_)"
   ]
  },
  {
   "cell_type": "code",
   "execution_count": 44,
   "metadata": {},
   "outputs": [],
   "source": [
    "y_pred=rf_model.predict(x_test)"
   ]
  },
  {
   "cell_type": "code",
   "execution_count": 45,
   "metadata": {},
   "outputs": [
    {
     "data": {
      "text/plain": [
       "0.988"
      ]
     },
     "execution_count": 45,
     "metadata": {},
     "output_type": "execute_result"
    }
   ],
   "source": [
    "rf_model.score(x_test,y_test)"
   ]
  },
  {
   "cell_type": "code",
   "execution_count": 46,
   "metadata": {},
   "outputs": [
    {
     "data": {
      "text/plain": [
       "0.988"
      ]
     },
     "execution_count": 46,
     "metadata": {},
     "output_type": "execute_result"
    }
   ],
   "source": [
    "from sklearn.metrics import accuracy_score\n",
    "accuracy_score(y_test,y_pred)"
   ]
  },
  {
   "cell_type": "markdown",
   "metadata": {},
   "source": [
    "# Finding importnat feature"
   ]
  },
  {
   "cell_type": "code",
   "execution_count": 47,
   "metadata": {},
   "outputs": [
    {
     "data": {
      "text/plain": [
       "Index(['Age', 'Experience', 'Income', 'Family', 'CCAvg', 'Education',\n",
       "       'Mortgage', 'Securities Account', 'CD Account', 'Online', 'CreditCard'],\n",
       "      dtype='object')"
      ]
     },
     "execution_count": 47,
     "metadata": {},
     "output_type": "execute_result"
    }
   ],
   "source": [
    "x.keys()"
   ]
  },
  {
   "cell_type": "code",
   "execution_count": 48,
   "metadata": {},
   "outputs": [],
   "source": [
    "feature_list_x = ['Age', 'Experience', 'Income', 'Family', 'CCAvg', 'Education',\n",
    "       'Mortgage', 'Securities Account', 'CD Account', 'Online', 'CreditCard']"
   ]
  },
  {
   "cell_type": "code",
   "execution_count": 49,
   "metadata": {},
   "outputs": [
    {
     "name": "stdout",
     "output_type": "stream",
     "text": [
      "Age 0.04793584039954418\n",
      "Experience 0.047894536509116764\n",
      "Income 0.34057938313887826\n",
      "Family 0.09386735773781742\n",
      "CCAvg 0.18847594474317728\n",
      "Education 0.1514316390770454\n",
      "Mortgage 0.047978577829903474\n",
      "Securities Account 0.006307174132930055\n",
      "CD Account 0.0563555166263604\n",
      "Online 0.009431516040809895\n",
      "CreditCard 0.009742513764416828\n"
     ]
    }
   ],
   "source": [
    "for feature,imp in zip(feature_list_x , rf_model.feature_importances_):\n",
    "    print(feature,imp)"
   ]
  },
  {
   "cell_type": "raw",
   "metadata": {},
   "source": [
    "Here we can conclude that Income,CCAvg,Education are the important attribute for predicting bank loan classification . And other are less important"
   ]
  },
  {
   "cell_type": "markdown",
   "metadata": {},
   "source": [
    "# Building  decision tree on imp feature"
   ]
  },
  {
   "cell_type": "code",
   "execution_count": 50,
   "metadata": {},
   "outputs": [],
   "source": [
    "imp_feature_x = ['Income','CCAvg','Education'] "
   ]
  },
  {
   "cell_type": "code",
   "execution_count": 51,
   "metadata": {},
   "outputs": [],
   "source": [
    "x = df[imp_feature_x]\n",
    "y = df['Personal Loan']"
   ]
  },
  {
   "cell_type": "code",
   "execution_count": 52,
   "metadata": {},
   "outputs": [],
   "source": [
    "x_train,x_test,y_train,y_test=train_test_split(x,y)"
   ]
  },
  {
   "cell_type": "code",
   "execution_count": 53,
   "metadata": {},
   "outputs": [],
   "source": [
    "from sklearn import tree\n"
   ]
  },
  {
   "cell_type": "code",
   "execution_count": 55,
   "metadata": {},
   "outputs": [],
   "source": [
    "model_tree=tree.DecisionTreeClassifier(max_depth=6) # assume  0,1 = n=2 , m = 3 feature "
   ]
  },
  {
   "cell_type": "code",
   "execution_count": 56,
   "metadata": {},
   "outputs": [
    {
     "data": {
      "text/plain": [
       "DecisionTreeClassifier(ccp_alpha=0.0, class_weight=None, criterion='gini',\n",
       "                       max_depth=6, max_features=None, max_leaf_nodes=None,\n",
       "                       min_impurity_decrease=0.0, min_impurity_split=None,\n",
       "                       min_samples_leaf=1, min_samples_split=2,\n",
       "                       min_weight_fraction_leaf=0.0, presort='deprecated',\n",
       "                       random_state=None, splitter='best')"
      ]
     },
     "execution_count": 56,
     "metadata": {},
     "output_type": "execute_result"
    }
   ],
   "source": [
    "model_tree.fit(x_train,y_train)"
   ]
  },
  {
   "cell_type": "markdown",
   "metadata": {},
   "source": [
    "# visualising model"
   ]
  },
  {
   "cell_type": "code",
   "execution_count": 57,
   "metadata": {},
   "outputs": [],
   "source": [
    "with open('loan_decision.dot','w') as f:\n",
    "    f = tree.export_graphviz(model_tree,feature_names=imp_feature_x,out_file=f)"
   ]
  },
  {
   "cell_type": "markdown",
   "metadata": {},
   "source": [
    "# writing rule for each leaf node"
   ]
  },
  {
   "cell_type": "raw",
   "metadata": {},
   "source": [
    "1] If Income <= 113.5 and CCAvg <= 2.95 and also Income <= 106.5 there are 2742 person which not getting loan.  \n",
    "\n",
    "2] If Income <= 113.5 and CCAvg <= 2.95 and also Income > 106.5 and CCAvg <= 2.725 and CCAvg <= 1.95 and CCAvg <= 1.85 there are 35 who not get loan and 7 who get loan . \n",
    "\n",
    "3] If Income <= 113.5 and CCAvg <= 2.95 and also Income > 106.5 and CCAvg <= 2.725 and CCAvg <= 1.95 and CCAvg > 1.85 there are 1 person who get loan.\n",
    "\n",
    "4]If Income <= 113.5 and CCAvg <= 2.95 and also Income > 106.5 and CCAvg <= 2.725 and CCAvg > 1.95 and CCAvg <= 2.45 there are 20 who not get loan\n",
    "\n",
    "5] If Income <= 113.5 and CCAvg <= 2.95 and also Income > 106.5 and CCAvg <= 2.725 and CCAvg > 1.95 and CCAvg > 2.45  there 4 person who not get loan and 1 who get loan.\n",
    "\n",
    "6] If Income <= 113.5 and CCAvg <= 2.95 and also Income > 106.5 and CCAvg > 2.725  and Income <= 110.5 there are  1 who get loan .\n",
    "\n",
    "7]If Income <= 113.5 and CCAvg <= 2.95 and also Income > 106.5 and CCAvg > 2.725  and Income > 110.5  there are 1 who not get loan .\n",
    "\n",
    "8]If Income <= 113.5 and CCAvg > 2.95 and Income <= 91.5 and CCAvg <= 3.55 and CCAvg <= 3.25 and CCAvg <= 3.15 there are 17 who not got loan and 5 got loan.\n",
    "\n",
    "9]If Income <= 113.5 and CCAvg > 2.95 and Income <= 91.5 and CCAvg <= 3.55 and CCAvg <= 3.25 and CCAvg > 3.15  there are 11 who not get loan .\n",
    "\n",
    "10]If Income <= 113.5 and CCAvg > 2.95 and Income <= 91.5 and CCAvg <= 3.55 and CCAvg > 3.25 and Education <= 2.5 there are 9 who not get loan  , 5 eho get loan.\n",
    "\n",
    "11]If Income <= 113.5 and CCAvg > 2.95 and Income <= 91.5 and CCAvg <= 3.55 and CCAvg > 3.25 and Education > 2.5 thre are 3 who get loan.\n",
    "\n",
    "12]If Income <= 113.5 and CCAvg > 2.95 and Income <= 91.5 and CCAvg > 3.55 and Income <= 88.5 and Income <= 81.5 there are 46 who not get loan \n",
    "\n",
    "13]If Income <= 113.5 and CCAvg > 2.95 and Income <= 91.5 and CCAvg > 3.55 and Income <= 88.5 and Income > 81.5 there are 23 who not get loan  , 3 who get loan.\n",
    "\n",
    "14]If Income <= 113.5 and CCAvg > 2.95 and Income <= 91.5 and CCAvg > 3.55 and Income >  88.5 and CCAvg <= 4.2 there are 1 who not get loan and 3 who get loan.\n",
    "\n",
    "15]If Income <= 113.5 and CCAvg > 2.95 and Income <= 91.5 and CCAvg > 3.55 and Income >  88.5 and CCAvg > 4.2 there 7 who not get loan.\n",
    "\n",
    "16]If Income <= 113.5 and CCAvg > 2.95 and Income > 91.5 and Education <= 1.5\n",
    "and CCAvg <= 4.25 and CCAvg <= 3.05 thhere are 2 who get loan .\n",
    "\n",
    "17]If Income <= 113.5 and CCAvg > 2.95 and Income > 91.5 and Education <= 1.5\n",
    "and CCAvg <= 4.25 and CCAvg > 3.05  there are 16 who not get loan and 7 who get loan.\n",
    "\n",
    "\n",
    "18]If Income <= 113.5 and CCAvg > 2.95 and Income > 91.5 and Education <= 1.5\n",
    "and CCAvg > 4.25 and Income <= 100.0 , there are 7 who not get loan and 1 who get loan.\n",
    "\n",
    "19]If Income <= 113.5 and CCAvg > 2.95 and Income > 91.5 and Education <= 1.5\n",
    "and CCAvg > 4.25 and Income > 100.0  there are 22 who not get loan.\n",
    "\n",
    "20]If Income <= 113.5 and CCAvg > 2.95 and Income > 91.5 and Education > 1.5 and Education <= 2.5 and CCAvg <= 3.533 , there are 2 who not get loan and 3 who get loan.\n",
    "\n",
    "21]If Income <= 113.5 and CCAvg > 2.95 and Income > 91.5 and Education > 1.5 and Education <= 2.5 and CCAvg > 3.533  there are 10 who got loan\n",
    "\n",
    "22]If Income <= 113.5 and CCAvg > 2.95 and Income > 91.5 and Education > 1.5 and Education > 2.5 and CCAvg <= 4.65 there are 8 who not get loan and 5 who get loan.\n",
    "\n",
    "23]If Income <= 113.5 and CCAvg > 2.95 and Income > 91.5 and Education > 1.5 and Education > 2.5 and CCAvg > 4.65 there are 4 who got loan\n",
    "\n",
    "24] If Income > 113.5 and Education <= 1.5 and CCAvg <= 6.633 and CCAvg <= 5.25\n",
    "and Income <= 169.5 and CCAvg <= 4.05, there are 187 who not get loan and 16 who get loan.\n",
    "\n",
    "25] If Income > 113.5 and Education <= 1.5 and CCAvg <= 6.633 and CCAvg <= 5.25\n",
    "and Income <= 169.5 and CCAvg > 4.05,there are 40 who not get loan and 6 who get loan.\n",
    "\n",
    "26]If Income > 113.5 and Education <= 1.5 and CCAvg <= 6.633 and CCAvg <= 5.25\n",
    "and Income > 169.5 and Income <= 179.5 and there are 15 who not get loan and 9 who get loan.\n",
    "\n",
    "27]If Income > 113.5 and Education <= 1.5 and CCAvg <= 6.633 and CCAvg <= 5.25\n",
    "and Income > 169.5 and Income > 179.5 and there are 30 who not get loan and 4 who get loan.\n",
    "\n",
    "28]If Income > 113.5 and Education <= 1.5 and CCAvg <= 6.633 and CCAvg > 5.25\n",
    "and CCAvg <= 5.65 and Income <= 134.0  there are 5 who not get loan and 1 who get loan.\n",
    "\n",
    "29]If Income > 113.5 and Education <= 1.5 and CCAvg <= 6.633 and CCAvg > 5.25\n",
    "and CCAvg <= 5.65 and Income > 134.0  there are 6 who get loan.\n",
    "\n",
    "30]If Income > 113.5 and Education <= 1.5 and CCAvg <= 6.633 and CCAvg > 5.25\n",
    "and CCAvg > 5.65 and CCAvg <= 6.55 there are 32 who not get loan and 5 who get loan.\n",
    "\n",
    "\n",
    "31]If Income > 113.5 and Education <= 1.5 and CCAvg <= 6.633 and CCAvg > 5.25\n",
    "and CCAvg > 5.65 and CCAvg > 6.55 there are 1 who get loan.\n",
    "\n",
    "\n",
    "\n",
    "32]If Income > 113.5 and Education <= 1.5 and CCAvg > 6.633 and Income <= 183.5\n",
    "and CCAvg <= 6.95 and CCAvg <= 6.85 there are 14 who not get loan.\n",
    "\n",
    "33] If Income > 113.5 and Education <= 1.5 and CCAvg > 6.633 and Income <=183.5\n",
    "and CCAvg <= 6.95 and CCAvg > 6.85 there are 7 who not get loan and 1 who get loan.\n",
    "\n",
    "34]If Income > 113.5 and Education <= 1.5 and CCAvg > 6.633 and Income <=183.5\n",
    "and CCAvg > 6.95 there are 63 who not get loan.\n",
    "\n",
    "35]If Income > 113.5 and Education <= 1.5 and CCAvg > 6.633 and Income > 183.5\n",
    "and Income <= 184.5 and CCAvg <= 7.8 there are 1 who get loan.\n",
    "\n",
    "36]If Income > 113.5 and Education <= 1.5 and CCAvg > 6.633 and Income > 183.5\n",
    "and Income <= 184.5 and CCAvg > 7.8 there are 2 who not get loan.\n",
    "\n",
    "37]If Income > 113.5 and Education <= 1.5 and CCAvg > 6.633 and Income > 183.5\n",
    "and Income > 184.5  there are 11 who not get loan.\n",
    "\n",
    "38]If Income > 113.5 and Education > 1.5 and Income <= 116.5 and CCAvg <= 3.6\n",
    "CCAvg <= 0.55 there are 1 who  get loan.\n",
    "\n",
    "\n",
    "39]If Income > 113.5 and Education > 1.5 and Income <= 116.5 and CCAvg <= 3.6\n",
    "CCAvg > 0.55 and CCAvg <= 2.15 there are 7 who not get loan.\n",
    "\n",
    "40]If Income > 113.5 and Education > 1.5 and Income <= 116.5 and CCAvg <= 3.6\n",
    "CCAvg > 0.55 and CCAvg > 2.15 there are 4 who not get loan and 3 who get loan.\n",
    "\n",
    "41]If Income > 113.5 and Education > 1.5 and Income <= 116.5 and CCAvg > 3.6\n",
    "there are 5 who get loan \n",
    "\n",
    "42] If Income > 113.5 and Education > 1.5 and Income > 116.5\n",
    "there are 240 who get loan \n",
    "\n",
    "\n",
    "\n",
    "\n",
    "\n",
    "\n",
    "\n",
    " \n",
    "\n",
    " "
   ]
  },
  {
   "cell_type": "code",
   "execution_count": 58,
   "metadata": {},
   "outputs": [
    {
     "data": {
      "text/plain": [
       "array([1], dtype=int64)"
      ]
     },
     "execution_count": 58,
     "metadata": {},
     "output_type": "execute_result"
    }
   ],
   "source": [
    "model_tree.predict([[1200,3.5,2]])  # ['Income','CCAvg','Education'] "
   ]
  },
  {
   "cell_type": "code",
   "execution_count": null,
   "metadata": {},
   "outputs": [],
   "source": []
  }
 ],
 "metadata": {
  "kernelspec": {
   "display_name": "Python 3",
   "language": "python",
   "name": "python3"
  },
  "language_info": {
   "codemirror_mode": {
    "name": "ipython",
    "version": 3
   },
   "file_extension": ".py",
   "mimetype": "text/x-python",
   "name": "python",
   "nbconvert_exporter": "python",
   "pygments_lexer": "ipython3",
   "version": "3.7.6"
  }
 },
 "nbformat": 4,
 "nbformat_minor": 4
}
