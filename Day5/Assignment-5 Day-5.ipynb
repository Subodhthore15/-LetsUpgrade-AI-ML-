{
 "cells": [
  {
   "cell_type": "markdown",
   "metadata": {},
   "source": [
    "# Question 1 :\n",
    "Write a Python program to find the first 20 non-even prime natural numbers."
   ]
  },
  {
   "cell_type": "code",
   "execution_count": 91,
   "metadata": {},
   "outputs": [
    {
     "name": "stdout",
     "output_type": "stream",
     "text": [
      " First 20 non-even prime natural numbers =  \n",
      "3 5 7 11 13 17 19 23 29 31 37 41 43 47 53 59 61 67 71 73 "
     ]
    }
   ],
   "source": [
    "prime = 2  # prime no are greater than 1\n",
    "count  = 0\n",
    "print(\" First 20 non-even prime natural numbers =  \")\n",
    "while True:\n",
    "    if count == 20:\n",
    "        break \n",
    "    if prime%2 != 0:     \n",
    "        flag=1\n",
    "        for i in range(2,prime-1):\n",
    "            if prime%i == 0:\n",
    "                flag = 0\n",
    "                break\n",
    "        if flag == 1 :        \n",
    "            print(prime,end = ' ')\n",
    "            count =  count + 1 \n",
    "    prime = prime + 1"
   ]
  },
  {
   "cell_type": "markdown",
   "metadata": {},
   "source": [
    "# Question 2 :\n",
    "Write a Python program to implement 15 functions of string.\n"
   ]
  },
  {
   "cell_type": "code",
   "execution_count": 80,
   "metadata": {},
   "outputs": [
    {
     "name": "stdout",
     "output_type": "stream",
     "text": [
      "length of string =  11\n",
      "lower case of string =  hello world\n",
      "upper case of string =  HELLO WORLD\n",
      "sorted of string =  ['d', 'e', 'h', 'l', 'l', 'l', 'o', 'o', 'r', 'w']\n",
      "split of string =  ['Hello', 'World']\n",
      "replace  Hello world\n",
      "find of string =  8\n",
      "count of string =  1\n",
      "islower() string =  False\n",
      "isalpha() string =  False\n",
      "index() string =  8\n",
      "isdigit() string =  False\n",
      "join string =  Hello$World\n",
      "endwith() True\n",
      "partition() ('Hello', ' ', 'World')\n"
     ]
    }
   ],
   "source": [
    "string = 'Hello World'\n",
    "print('length of string = ',len(string))\n",
    "print('lower case of string = ',string.lower())\n",
    "print('upper case of string = ',string.upper())\n",
    "print('sorted of string = ',sorted(string.lower().replace(' ','')))\n",
    "print('split of string = ',string.split(' '))\n",
    "print('replace ',string.replace('W' ,'w'))\n",
    "print('find of string = ',string.find('r'))\n",
    "print('count of string = ',string.count('r'))\n",
    "print('islower() string = ',string.islower())\n",
    "print('isalpha() string = ',string.isalpha()) # because of ' '\n",
    "print('index() string = ',string.index('r'))\n",
    "print('isdigit() string = ',string.isdigit())\n",
    "print('join string = ','$'.join(string.split()))\n",
    "print('endwith()',string.endswith('ld'))\n",
    "print('partition()',string.partition(' '))"
   ]
  },
  {
   "cell_type": "markdown",
   "metadata": {},
   "source": [
    "# Question 3:\n",
    "Write a Python program to check if the given string is a Palindrome or Anagram or None of them.\n",
    "Display the message accordingly to the user.\n"
   ]
  },
  {
   "cell_type": "code",
   "execution_count": 32,
   "metadata": {},
   "outputs": [
    {
     "name": "stdout",
     "output_type": "stream",
     "text": [
      "palindrome\n",
      "opencv and enpcvo Anagram\n",
      "hello and world None of palindrome and Anagram\n"
     ]
    }
   ],
   "source": [
    "\n",
    "def check(s1,s2):\n",
    "    if s1 == s1[::-1]:\n",
    "        print('palindrome')\n",
    "    elif sorted(s1)==sorted(s2):\n",
    "        print(s1,'and',s2, 'Anagram')\n",
    "    else:\n",
    "        print(s1,'and',s2,'None of palindrome and Anagram')\n",
    "    \n",
    "    \n",
    "    \n",
    " \n",
    "\n",
    "check('ABCDCBA','')\n",
    "check('opencv','enpcvo')\n",
    "\n",
    "check('hello','world')"
   ]
  },
  {
   "cell_type": "markdown",
   "metadata": {},
   "source": [
    "# Question 4:\n",
    "Write a Python's user defined function that removes all the additional characters from the string\n",
    "and converts it finally to lower case using built-in lower(). eg: If the string is \"Dr. Darshan Ingle\n",
    "@AI-ML Trainer\", then the output be \"drdarshaningleaimltrainer\"."
   ]
  },
  {
   "cell_type": "code",
   "execution_count": 21,
   "metadata": {},
   "outputs": [
    {
     "name": "stdout",
     "output_type": "stream",
     "text": [
      "drdarshaningleaimltrainer"
     ]
    }
   ],
   "source": [
    "string= \"Dr. Darshan Ingle @AI-ML Trainer\"\n",
    "\n",
    "\n",
    "def function(string):\n",
    "    for i in string:\n",
    "        i=i.lower()\n",
    "        \n",
    "        if i.isalpha():\n",
    "            print(i,end='')\n",
    "    \n",
    "    \n",
    "\n",
    "function(string)\n",
    "    \n"
   ]
  },
  {
   "cell_type": "code",
   "execution_count": null,
   "metadata": {},
   "outputs": [],
   "source": []
  }
 ],
 "metadata": {
  "kernelspec": {
   "display_name": "Python 3",
   "language": "python",
   "name": "python3"
  },
  "language_info": {
   "codemirror_mode": {
    "name": "ipython",
    "version": 3
   },
   "file_extension": ".py",
   "mimetype": "text/x-python",
   "name": "python",
   "nbconvert_exporter": "python",
   "pygments_lexer": "ipython3",
   "version": "3.8.2"
  }
 },
 "nbformat": 4,
 "nbformat_minor": 4
}
