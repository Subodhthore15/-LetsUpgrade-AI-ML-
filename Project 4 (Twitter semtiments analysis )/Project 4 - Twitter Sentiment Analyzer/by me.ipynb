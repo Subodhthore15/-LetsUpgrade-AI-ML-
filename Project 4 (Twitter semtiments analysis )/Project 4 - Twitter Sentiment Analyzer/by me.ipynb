{
 "cells": [
  {
   "cell_type": "code",
   "execution_count": 1,
   "metadata": {},
   "outputs": [
    {
     "name": "stdout",
     "output_type": "stream",
     "text": [
      "Requirement already satisfied: tweepy in c:\\users\\icon\\anaconda3\\lib\\site-packages (3.9.0)\n",
      "Requirement already satisfied: six>=1.10.0 in c:\\users\\icon\\anaconda3\\lib\\site-packages (from tweepy) (1.15.0)\n",
      "Requirement already satisfied: requests-oauthlib>=0.7.0 in c:\\users\\icon\\anaconda3\\lib\\site-packages (from tweepy) (1.3.0)\n",
      "Requirement already satisfied: requests[socks]>=2.11.1 in c:\\users\\icon\\anaconda3\\lib\\site-packages (from tweepy) (2.24.0)\n",
      "Requirement already satisfied: oauthlib>=3.0.0 in c:\\users\\icon\\anaconda3\\lib\\site-packages (from requests-oauthlib>=0.7.0->tweepy) (3.1.0)\n",
      "Requirement already satisfied: certifi>=2017.4.17 in c:\\users\\icon\\anaconda3\\lib\\site-packages (from requests[socks]>=2.11.1->tweepy) (2020.6.20)\n",
      "Requirement already satisfied: chardet<4,>=3.0.2 in c:\\users\\icon\\anaconda3\\lib\\site-packages (from requests[socks]>=2.11.1->tweepy) (3.0.4)\n",
      "Requirement already satisfied: idna<3,>=2.5 in c:\\users\\icon\\anaconda3\\lib\\site-packages (from requests[socks]>=2.11.1->tweepy) (2.10)\n",
      "Requirement already satisfied: urllib3!=1.25.0,!=1.25.1,<1.26,>=1.21.1 in c:\\users\\icon\\anaconda3\\lib\\site-packages (from requests[socks]>=2.11.1->tweepy) (1.25.10)\n",
      "Requirement already satisfied: PySocks!=1.5.7,>=1.5.6; extra == \"socks\" in c:\\users\\icon\\anaconda3\\lib\\site-packages (from requests[socks]>=2.11.1->tweepy) (1.7.1)\n"
     ]
    }
   ],
   "source": [
    "!pip install tweepy"
   ]
  },
  {
   "cell_type": "code",
   "execution_count": 2,
   "metadata": {},
   "outputs": [
    {
     "name": "stdout",
     "output_type": "stream",
     "text": [
      "Requirement already satisfied: openpyxl in c:\\users\\icon\\anaconda3\\lib\\site-packages (3.0.5)\n",
      "Requirement already satisfied: et-xmlfile in c:\\users\\icon\\anaconda3\\lib\\site-packages (from openpyxl) (1.0.1)\n",
      "Requirement already satisfied: jdcal in c:\\users\\icon\\anaconda3\\lib\\site-packages (from openpyxl) (1.4.1)\n"
     ]
    }
   ],
   "source": [
    "!pip install openpyxl"
   ]
  },
  {
   "cell_type": "code",
   "execution_count": 26,
   "metadata": {},
   "outputs": [],
   "source": [
    "import numpy as np\n",
    "import pandas as pd\n",
    "import tweepy\n",
    "import json\n",
    "from tweepy import OAuthHandler # responsible for communicating with twitter"
   ]
  },
  {
   "cell_type": "code",
   "execution_count": 4,
   "metadata": {},
   "outputs": [],
   "source": [
    "consumer_key_api = \"RTrWYjZgpLgNTL6idGiH1I6RT\"\n",
    "consumer_secret_api = \"PV8lvg5DJLp7fMsp83LErAqMOpPiIqHE3b11cJQ7BgTe1k9miR\"\n",
    "access_token = \"1321760436207919105-gLwHRd3Fo50DKQ32vUKZhp8tyfvwdU\"\n",
    "access_token_secret = \"qydEY4MwMsLRybAA21vMI4ScArCJ214wTRIK7rwnnyyHW\""
   ]
  },
  {
   "cell_type": "code",
   "execution_count": 5,
   "metadata": {},
   "outputs": [
    {
     "name": "stdout",
     "output_type": "stream",
     "text": [
      "Empty DataFrame\n",
      "Columns: [Tweets, User, User_statuses_count, user_followers, User_location, User_verified, fav_count, rt_count, tweet_date]\n",
      "Index: []\n",
      "(0, 9)\n"
     ]
    }
   ],
   "source": [
    "df = pd.DataFrame(columns = ['Tweets' , 'User' , 'User_statuses_count' , \n",
    "                            'user_followers' , 'User_location' , 'User_verified' ,\n",
    "                            'fav_count' , 'rt_count' , 'tweet_date'] )\n",
    "print(df)\n",
    "print(df.shape)"
   ]
  },
  {
   "cell_type": "code",
   "execution_count": 8,
   "metadata": {},
   "outputs": [],
   "source": [
    "auth = tweepy.OAuthHandler( consumer_key_api , consumer_secret_api )\n",
    "auth.set_access_token( access_token , access_token_secret )\n",
    "api = tweepy.API(auth)"
   ]
  },
  {
   "cell_type": "code",
   "execution_count": 9,
   "metadata": {},
   "outputs": [],
   "source": [
    "def stream(data, file_name):\n",
    "    i = 0\n",
    "    for tweet in tweepy.Cursor(api.search, q=data, count=100, lang='en').items():\n",
    "        print(i, end='\\r')\n",
    "        df.loc[i, 'Tweets'] = tweet.text\n",
    "        df.loc[i, 'User'] = tweet.user.name\n",
    "        df.loc[i, 'User_statuses_count'] = tweet.user.statuses_count\n",
    "        df.loc[i, 'user_followers'] = tweet.user.followers_count\n",
    "        df.loc[i, 'User_location'] = tweet.user.location\n",
    "        df.loc[i, 'User_verified'] = tweet.user.verified\n",
    "        df.loc[i, 'fav_count'] = tweet.favorite_count\n",
    "        df.loc[i, 'rt_count'] = tweet.retweet_count\n",
    "        df.loc[i, 'tweet_date'] = tweet.created_at\n",
    "        df.to_excel('{}.xlsx'.format(file_name))\n",
    "        i = i+1\n",
    "        if i == 1000:\n",
    "            break\n",
    "        else:\n",
    "            pass"
   ]
  },
  {
   "cell_type": "code",
   "execution_count": 10,
   "metadata": {},
   "outputs": [
    {
     "name": "stdout",
     "output_type": "stream",
     "text": [
      "279\r"
     ]
    }
   ],
   "source": [
    "stream(data=[\"DC winning IPL\"] , file_name='my_tweets')"
   ]
  },
  {
   "cell_type": "code",
   "execution_count": 11,
   "metadata": {},
   "outputs": [
    {
     "data": {
      "text/html": [
       "<div>\n",
       "<style scoped>\n",
       "    .dataframe tbody tr th:only-of-type {\n",
       "        vertical-align: middle;\n",
       "    }\n",
       "\n",
       "    .dataframe tbody tr th {\n",
       "        vertical-align: top;\n",
       "    }\n",
       "\n",
       "    .dataframe thead th {\n",
       "        text-align: right;\n",
       "    }\n",
       "</style>\n",
       "<table border=\"1\" class=\"dataframe\">\n",
       "  <thead>\n",
       "    <tr style=\"text-align: right;\">\n",
       "      <th></th>\n",
       "      <th>Tweets</th>\n",
       "      <th>User</th>\n",
       "      <th>User_statuses_count</th>\n",
       "      <th>user_followers</th>\n",
       "      <th>User_location</th>\n",
       "      <th>User_verified</th>\n",
       "      <th>fav_count</th>\n",
       "      <th>rt_count</th>\n",
       "      <th>tweet_date</th>\n",
       "    </tr>\n",
       "  </thead>\n",
       "  <tbody>\n",
       "    <tr>\n",
       "      <th>0</th>\n",
       "      <td>This time I badly want to see DC winning the I...</td>\n",
       "      <td>𝔾𝕒𝕦𝕣𝕒𝕧</td>\n",
       "      <td>8494</td>\n",
       "      <td>146</td>\n",
       "      <td>New Delhi, India</td>\n",
       "      <td>False</td>\n",
       "      <td>0</td>\n",
       "      <td>0</td>\n",
       "      <td>2020-11-02 17:28:22</td>\n",
       "    </tr>\n",
       "    <tr>\n",
       "      <th>1</th>\n",
       "      <td>RT @ayshahabib11: All IPL fans what do you thi...</td>\n",
       "      <td>#aisihihunmein</td>\n",
       "      <td>17051</td>\n",
       "      <td>348</td>\n",
       "      <td></td>\n",
       "      <td>False</td>\n",
       "      <td>0</td>\n",
       "      <td>42</td>\n",
       "      <td>2020-11-02 17:27:00</td>\n",
       "    </tr>\n",
       "    <tr>\n",
       "      <th>2</th>\n",
       "      <td>RT @FirstpostSports: Rishabh Pant hits the win...</td>\n",
       "      <td>Firstpost</td>\n",
       "      <td>611563</td>\n",
       "      <td>2088559</td>\n",
       "      <td>Mumbai, India</td>\n",
       "      <td>True</td>\n",
       "      <td>0</td>\n",
       "      <td>1</td>\n",
       "      <td>2020-11-02 17:25:56</td>\n",
       "    </tr>\n",
       "    <tr>\n",
       "      <th>3</th>\n",
       "      <td>Rishabh Pant hits the winning runs. \\n\\nDelhi ...</td>\n",
       "      <td>Firstpost Sports</td>\n",
       "      <td>208492</td>\n",
       "      <td>441729</td>\n",
       "      <td>India</td>\n",
       "      <td>True</td>\n",
       "      <td>17</td>\n",
       "      <td>1</td>\n",
       "      <td>2020-11-02 17:25:39</td>\n",
       "    </tr>\n",
       "    <tr>\n",
       "      <th>4</th>\n",
       "      <td>RT @ayshahabib11: All IPL fans what do you thi...</td>\n",
       "      <td>सिया_उर्मिल 🇮🇳MSDIAN💛</td>\n",
       "      <td>30745</td>\n",
       "      <td>457</td>\n",
       "      <td></td>\n",
       "      <td>False</td>\n",
       "      <td>0</td>\n",
       "      <td>42</td>\n",
       "      <td>2020-11-02 17:15:55</td>\n",
       "    </tr>\n",
       "  </tbody>\n",
       "</table>\n",
       "</div>"
      ],
      "text/plain": [
       "                                              Tweets                   User  \\\n",
       "0  This time I badly want to see DC winning the I...                 𝔾𝕒𝕦𝕣𝕒𝕧   \n",
       "1  RT @ayshahabib11: All IPL fans what do you thi...         #aisihihunmein   \n",
       "2  RT @FirstpostSports: Rishabh Pant hits the win...              Firstpost   \n",
       "3  Rishabh Pant hits the winning runs. \\n\\nDelhi ...       Firstpost Sports   \n",
       "4  RT @ayshahabib11: All IPL fans what do you thi...  सिया_उर्मिल 🇮🇳MSDIAN💛   \n",
       "\n",
       "  User_statuses_count user_followers     User_location User_verified  \\\n",
       "0                8494            146  New Delhi, India         False   \n",
       "1               17051            348                           False   \n",
       "2              611563        2088559     Mumbai, India          True   \n",
       "3              208492         441729             India          True   \n",
       "4               30745            457                           False   \n",
       "\n",
       "  fav_count rt_count           tweet_date  \n",
       "0         0        0  2020-11-02 17:28:22  \n",
       "1         0       42  2020-11-02 17:27:00  \n",
       "2         0        1  2020-11-02 17:25:56  \n",
       "3        17        1  2020-11-02 17:25:39  \n",
       "4         0       42  2020-11-02 17:15:55  "
      ]
     },
     "execution_count": 11,
     "metadata": {},
     "output_type": "execute_result"
    }
   ],
   "source": [
    "df.head()"
   ]
  },
  {
   "cell_type": "code",
   "execution_count": 14,
   "metadata": {},
   "outputs": [
    {
     "name": "stdout",
     "output_type": "stream",
     "text": [
      "Collecting textblob\n",
      "  Downloading textblob-0.15.3-py2.py3-none-any.whl (636 kB)\n",
      "Requirement already satisfied: nltk>=3.1 in c:\\users\\icon\\anaconda3\\lib\\site-packages (from textblob) (3.5)\n",
      "Requirement already satisfied: joblib in c:\\users\\icon\\anaconda3\\lib\\site-packages (from nltk>=3.1->textblob) (0.17.0)\n",
      "Requirement already satisfied: click in c:\\users\\icon\\anaconda3\\lib\\site-packages (from nltk>=3.1->textblob) (7.1.2)\n",
      "Requirement already satisfied: regex in c:\\users\\icon\\anaconda3\\lib\\site-packages (from nltk>=3.1->textblob) (2020.10.15)\n",
      "Requirement already satisfied: tqdm in c:\\users\\icon\\anaconda3\\lib\\site-packages (from nltk>=3.1->textblob) (4.50.2)\n",
      "Installing collected packages: textblob\n",
      "Successfully installed textblob-0.15.3\n"
     ]
    }
   ],
   "source": [
    "!pip install textblob  # inbuild sentiment analyser"
   ]
  },
  {
   "cell_type": "raw",
   "metadata": {},
   "source": [
    "Sentiment(polarity, subjectivity)\n",
    "\n",
    "Polarity score: [-1 , +1]\n",
    "\n",
    "Subjectivity: [0.0 , 1.0] \n",
    "    \n",
    "where 0.0 is very Objective(to the point / in a nutshell) and 1.0 is very Subjective(therotical explaination)."
   ]
  },
  {
   "cell_type": "code",
   "execution_count": 16,
   "metadata": {},
   "outputs": [],
   "source": [
    "from textblob import TextBlob"
   ]
  },
  {
   "cell_type": "code",
   "execution_count": 17,
   "metadata": {},
   "outputs": [],
   "source": [
    "import re\n",
    "def clean_tweet(tweet):\n",
    "    return ' '.join(re.sub('(@[A-Za-z0-9]+)|([^0-9A-Za-z \\t])|(\\w+:\\/\\/\\S+)', ' ', tweet).split())"
   ]
  },
  {
   "cell_type": "code",
   "execution_count": 21,
   "metadata": {},
   "outputs": [],
   "source": [
    "df['clean_tweet'] = df['Tweets'].apply(lambda x : clean_tweet(x))"
   ]
  },
  {
   "cell_type": "code",
   "execution_count": 22,
   "metadata": {},
   "outputs": [
    {
     "data": {
      "text/html": [
       "<div>\n",
       "<style scoped>\n",
       "    .dataframe tbody tr th:only-of-type {\n",
       "        vertical-align: middle;\n",
       "    }\n",
       "\n",
       "    .dataframe tbody tr th {\n",
       "        vertical-align: top;\n",
       "    }\n",
       "\n",
       "    .dataframe thead th {\n",
       "        text-align: right;\n",
       "    }\n",
       "</style>\n",
       "<table border=\"1\" class=\"dataframe\">\n",
       "  <thead>\n",
       "    <tr style=\"text-align: right;\">\n",
       "      <th></th>\n",
       "      <th>Tweets</th>\n",
       "      <th>User</th>\n",
       "      <th>User_statuses_count</th>\n",
       "      <th>user_followers</th>\n",
       "      <th>User_location</th>\n",
       "      <th>User_verified</th>\n",
       "      <th>fav_count</th>\n",
       "      <th>rt_count</th>\n",
       "      <th>tweet_date</th>\n",
       "      <th>clean_tweet</th>\n",
       "    </tr>\n",
       "  </thead>\n",
       "  <tbody>\n",
       "    <tr>\n",
       "      <th>0</th>\n",
       "      <td>This time I badly want to see DC winning the I...</td>\n",
       "      <td>𝔾𝕒𝕦𝕣𝕒𝕧</td>\n",
       "      <td>8494</td>\n",
       "      <td>146</td>\n",
       "      <td>New Delhi, India</td>\n",
       "      <td>False</td>\n",
       "      <td>0</td>\n",
       "      <td>0</td>\n",
       "      <td>2020-11-02 17:28:22</td>\n",
       "      <td>This time I badly want to see DC winning the I...</td>\n",
       "    </tr>\n",
       "    <tr>\n",
       "      <th>1</th>\n",
       "      <td>RT @ayshahabib11: All IPL fans what do you thi...</td>\n",
       "      <td>#aisihihunmein</td>\n",
       "      <td>17051</td>\n",
       "      <td>348</td>\n",
       "      <td></td>\n",
       "      <td>False</td>\n",
       "      <td>0</td>\n",
       "      <td>42</td>\n",
       "      <td>2020-11-02 17:27:00</td>\n",
       "      <td>RT All IPL fans what do you think who s winnin...</td>\n",
       "    </tr>\n",
       "    <tr>\n",
       "      <th>2</th>\n",
       "      <td>RT @FirstpostSports: Rishabh Pant hits the win...</td>\n",
       "      <td>Firstpost</td>\n",
       "      <td>611563</td>\n",
       "      <td>2088559</td>\n",
       "      <td>Mumbai, India</td>\n",
       "      <td>True</td>\n",
       "      <td>0</td>\n",
       "      <td>1</td>\n",
       "      <td>2020-11-02 17:25:56</td>\n",
       "      <td>RT Rishabh Pant hits the winning runs Delhi Ca...</td>\n",
       "    </tr>\n",
       "    <tr>\n",
       "      <th>3</th>\n",
       "      <td>Rishabh Pant hits the winning runs. \\n\\nDelhi ...</td>\n",
       "      <td>Firstpost Sports</td>\n",
       "      <td>208492</td>\n",
       "      <td>441729</td>\n",
       "      <td>India</td>\n",
       "      <td>True</td>\n",
       "      <td>17</td>\n",
       "      <td>1</td>\n",
       "      <td>2020-11-02 17:25:39</td>\n",
       "      <td>Rishabh Pant hits the winning runs Delhi Capit...</td>\n",
       "    </tr>\n",
       "    <tr>\n",
       "      <th>4</th>\n",
       "      <td>RT @ayshahabib11: All IPL fans what do you thi...</td>\n",
       "      <td>सिया_उर्मिल 🇮🇳MSDIAN💛</td>\n",
       "      <td>30745</td>\n",
       "      <td>457</td>\n",
       "      <td></td>\n",
       "      <td>False</td>\n",
       "      <td>0</td>\n",
       "      <td>42</td>\n",
       "      <td>2020-11-02 17:15:55</td>\n",
       "      <td>RT All IPL fans what do you think who s winnin...</td>\n",
       "    </tr>\n",
       "  </tbody>\n",
       "</table>\n",
       "</div>"
      ],
      "text/plain": [
       "                                              Tweets                   User  \\\n",
       "0  This time I badly want to see DC winning the I...                 𝔾𝕒𝕦𝕣𝕒𝕧   \n",
       "1  RT @ayshahabib11: All IPL fans what do you thi...         #aisihihunmein   \n",
       "2  RT @FirstpostSports: Rishabh Pant hits the win...              Firstpost   \n",
       "3  Rishabh Pant hits the winning runs. \\n\\nDelhi ...       Firstpost Sports   \n",
       "4  RT @ayshahabib11: All IPL fans what do you thi...  सिया_उर्मिल 🇮🇳MSDIAN💛   \n",
       "\n",
       "  User_statuses_count user_followers     User_location User_verified  \\\n",
       "0                8494            146  New Delhi, India         False   \n",
       "1               17051            348                           False   \n",
       "2              611563        2088559     Mumbai, India          True   \n",
       "3              208492         441729             India          True   \n",
       "4               30745            457                           False   \n",
       "\n",
       "  fav_count rt_count           tweet_date  \\\n",
       "0         0        0  2020-11-02 17:28:22   \n",
       "1         0       42  2020-11-02 17:27:00   \n",
       "2         0        1  2020-11-02 17:25:56   \n",
       "3        17        1  2020-11-02 17:25:39   \n",
       "4         0       42  2020-11-02 17:15:55   \n",
       "\n",
       "                                         clean_tweet  \n",
       "0  This time I badly want to see DC winning the I...  \n",
       "1  RT All IPL fans what do you think who s winnin...  \n",
       "2  RT Rishabh Pant hits the winning runs Delhi Ca...  \n",
       "3  Rishabh Pant hits the winning runs Delhi Capit...  \n",
       "4  RT All IPL fans what do you think who s winnin...  "
      ]
     },
     "execution_count": 22,
     "metadata": {},
     "output_type": "execute_result"
    }
   ],
   "source": [
    "df.head()"
   ]
  },
  {
   "cell_type": "code",
   "execution_count": 23,
   "metadata": {},
   "outputs": [],
   "source": [
    "def analyze_sentiment(tweet):\n",
    "    analysis = TextBlob(tweet)\n",
    "    if analysis.sentiment.polarity > 0:\n",
    "        return 'Positive'\n",
    "    elif analysis.sentiment.polarity == 0:\n",
    "        return 'Neutral'\n",
    "    else:\n",
    "        return 'Negative'"
   ]
  },
  {
   "cell_type": "code",
   "execution_count": 24,
   "metadata": {},
   "outputs": [
    {
     "data": {
      "text/html": [
       "<div>\n",
       "<style scoped>\n",
       "    .dataframe tbody tr th:only-of-type {\n",
       "        vertical-align: middle;\n",
       "    }\n",
       "\n",
       "    .dataframe tbody tr th {\n",
       "        vertical-align: top;\n",
       "    }\n",
       "\n",
       "    .dataframe thead th {\n",
       "        text-align: right;\n",
       "    }\n",
       "</style>\n",
       "<table border=\"1\" class=\"dataframe\">\n",
       "  <thead>\n",
       "    <tr style=\"text-align: right;\">\n",
       "      <th></th>\n",
       "      <th>Tweets</th>\n",
       "      <th>User</th>\n",
       "      <th>User_statuses_count</th>\n",
       "      <th>user_followers</th>\n",
       "      <th>User_location</th>\n",
       "      <th>User_verified</th>\n",
       "      <th>fav_count</th>\n",
       "      <th>rt_count</th>\n",
       "      <th>tweet_date</th>\n",
       "      <th>clean_tweet</th>\n",
       "      <th>Sentiment</th>\n",
       "    </tr>\n",
       "  </thead>\n",
       "  <tbody>\n",
       "    <tr>\n",
       "      <th>0</th>\n",
       "      <td>This time I badly want to see DC winning the I...</td>\n",
       "      <td>𝔾𝕒𝕦𝕣𝕒𝕧</td>\n",
       "      <td>8494</td>\n",
       "      <td>146</td>\n",
       "      <td>New Delhi, India</td>\n",
       "      <td>False</td>\n",
       "      <td>0</td>\n",
       "      <td>0</td>\n",
       "      <td>2020-11-02 17:28:22</td>\n",
       "      <td>This time I badly want to see DC winning the I...</td>\n",
       "      <td>Negative</td>\n",
       "    </tr>\n",
       "    <tr>\n",
       "      <th>1</th>\n",
       "      <td>RT @ayshahabib11: All IPL fans what do you thi...</td>\n",
       "      <td>#aisihihunmein</td>\n",
       "      <td>17051</td>\n",
       "      <td>348</td>\n",
       "      <td></td>\n",
       "      <td>False</td>\n",
       "      <td>0</td>\n",
       "      <td>42</td>\n",
       "      <td>2020-11-02 17:27:00</td>\n",
       "      <td>RT All IPL fans what do you think who s winnin...</td>\n",
       "      <td>Positive</td>\n",
       "    </tr>\n",
       "    <tr>\n",
       "      <th>2</th>\n",
       "      <td>RT @FirstpostSports: Rishabh Pant hits the win...</td>\n",
       "      <td>Firstpost</td>\n",
       "      <td>611563</td>\n",
       "      <td>2088559</td>\n",
       "      <td>Mumbai, India</td>\n",
       "      <td>True</td>\n",
       "      <td>0</td>\n",
       "      <td>1</td>\n",
       "      <td>2020-11-02 17:25:56</td>\n",
       "      <td>RT Rishabh Pant hits the winning runs Delhi Ca...</td>\n",
       "      <td>Positive</td>\n",
       "    </tr>\n",
       "    <tr>\n",
       "      <th>3</th>\n",
       "      <td>Rishabh Pant hits the winning runs. \\n\\nDelhi ...</td>\n",
       "      <td>Firstpost Sports</td>\n",
       "      <td>208492</td>\n",
       "      <td>441729</td>\n",
       "      <td>India</td>\n",
       "      <td>True</td>\n",
       "      <td>17</td>\n",
       "      <td>1</td>\n",
       "      <td>2020-11-02 17:25:39</td>\n",
       "      <td>Rishabh Pant hits the winning runs Delhi Capit...</td>\n",
       "      <td>Positive</td>\n",
       "    </tr>\n",
       "    <tr>\n",
       "      <th>4</th>\n",
       "      <td>RT @ayshahabib11: All IPL fans what do you thi...</td>\n",
       "      <td>सिया_उर्मिल 🇮🇳MSDIAN💛</td>\n",
       "      <td>30745</td>\n",
       "      <td>457</td>\n",
       "      <td></td>\n",
       "      <td>False</td>\n",
       "      <td>0</td>\n",
       "      <td>42</td>\n",
       "      <td>2020-11-02 17:15:55</td>\n",
       "      <td>RT All IPL fans what do you think who s winnin...</td>\n",
       "      <td>Positive</td>\n",
       "    </tr>\n",
       "  </tbody>\n",
       "</table>\n",
       "</div>"
      ],
      "text/plain": [
       "                                              Tweets                   User  \\\n",
       "0  This time I badly want to see DC winning the I...                 𝔾𝕒𝕦𝕣𝕒𝕧   \n",
       "1  RT @ayshahabib11: All IPL fans what do you thi...         #aisihihunmein   \n",
       "2  RT @FirstpostSports: Rishabh Pant hits the win...              Firstpost   \n",
       "3  Rishabh Pant hits the winning runs. \\n\\nDelhi ...       Firstpost Sports   \n",
       "4  RT @ayshahabib11: All IPL fans what do you thi...  सिया_उर्मिल 🇮🇳MSDIAN💛   \n",
       "\n",
       "  User_statuses_count user_followers     User_location User_verified  \\\n",
       "0                8494            146  New Delhi, India         False   \n",
       "1               17051            348                           False   \n",
       "2              611563        2088559     Mumbai, India          True   \n",
       "3              208492         441729             India          True   \n",
       "4               30745            457                           False   \n",
       "\n",
       "  fav_count rt_count           tweet_date  \\\n",
       "0         0        0  2020-11-02 17:28:22   \n",
       "1         0       42  2020-11-02 17:27:00   \n",
       "2         0        1  2020-11-02 17:25:56   \n",
       "3        17        1  2020-11-02 17:25:39   \n",
       "4         0       42  2020-11-02 17:15:55   \n",
       "\n",
       "                                         clean_tweet Sentiment  \n",
       "0  This time I badly want to see DC winning the I...  Negative  \n",
       "1  RT All IPL fans what do you think who s winnin...  Positive  \n",
       "2  RT Rishabh Pant hits the winning runs Delhi Ca...  Positive  \n",
       "3  Rishabh Pant hits the winning runs Delhi Capit...  Positive  \n",
       "4  RT All IPL fans what do you think who s winnin...  Positive  "
      ]
     },
     "execution_count": 24,
     "metadata": {},
     "output_type": "execute_result"
    }
   ],
   "source": [
    "df['Sentiment'] = df['clean_tweet'].apply(lambda x : analyze_sentiment(x) )\n",
    "df.head()"
   ]
  },
  {
   "cell_type": "code",
   "execution_count": 25,
   "metadata": {},
   "outputs": [
    {
     "name": "stdout",
     "output_type": "stream",
     "text": [
      "Original tweet:\n",
      " RT @ayshahabib11: All IPL fans what do you think who's winning the match today and thus qualifying for the playoffs ? \n",
      "\n",
      "DC or RCB ? \n",
      "\n",
      "Comme…\n",
      "\n",
      "Clean tweet:\n",
      " RT All IPL fans what do you think who s winning the match today and thus qualifying for the playoffs DC or RCB Comme\n",
      "\n",
      "Sentiment of the tweet:\n",
      " Positive\n"
     ]
    }
   ],
   "source": [
    "n = 1\n",
    "print(\"Original tweet:\\n\",df['Tweets'][n])\n",
    "print()\n",
    "print(\"Clean tweet:\\n\",df['clean_tweet'][n])\n",
    "print()\n",
    "print(\"Sentiment of the tweet:\\n\",df['Sentiment'][n])"
   ]
  },
  {
   "cell_type": "code",
   "execution_count": null,
   "metadata": {},
   "outputs": [],
   "source": []
  }
 ],
 "metadata": {
  "kernelspec": {
   "display_name": "Python 3",
   "language": "python",
   "name": "python3"
  },
  "language_info": {
   "codemirror_mode": {
    "name": "ipython",
    "version": 3
   },
   "file_extension": ".py",
   "mimetype": "text/x-python",
   "name": "python",
   "nbconvert_exporter": "python",
   "pygments_lexer": "ipython3",
   "version": "3.7.6"
  }
 },
 "nbformat": 4,
 "nbformat_minor": 4
}
